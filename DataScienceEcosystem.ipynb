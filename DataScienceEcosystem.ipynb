{
 "cells": [
  {
   "cell_type": "markdown",
   "id": "e914c10d",
   "metadata": {},
   "source": [
    "<h1>Data Science Tools and Ecosystem<h1>"
   ]
  },
  {
   "cell_type": "markdown",
   "id": "56a0e148",
   "metadata": {},
   "source": [
    "In this notebook, Data Science Tools and Ecosystem are summarized."
   ]
  },
  {
   "cell_type": "markdown",
   "id": "c2b08f29",
   "metadata": {},
   "source": [
    "**Objectives:**\n",
    "- Python\n",
    "- SQL\n",
    "- MATLAB\n",
    "- Java\n",
    "- C++"
   ]
  },
  {
   "cell_type": "markdown",
   "id": "ae844888",
   "metadata": {},
   "source": [
    "Some of the popular languages that Data Scientists use are:\n",
    "\n",
    "1. Python\n",
    "2. Java\n",
    "3. C++\n",
    "4. SQL\n",
    "5. Javascript"
   ]
  },
  {
   "cell_type": "markdown",
   "id": "71b09620",
   "metadata": {},
   "source": [
    "Some of the commonly used libraries used by Data Scientists include:\n",
    "\n",
    "    1. NumPy\n",
    "    2. Matplotlib\n",
    "    3. Pandas\n",
    "    4. SciPy\n",
    "    5. TensorFlow"
   ]
  },
  {
   "cell_type": "markdown",
   "id": "a0a4d2ff",
   "metadata": {},
   "source": [
    "|Data Science Tools| \n",
    "| ------ | \n",
    "| Visual Studio Code | \n",
    "| RStudio |\n",
    "| Jupyter Notebook | \n"
   ]
  },
  {
   "cell_type": "markdown",
   "id": "7053edbb",
   "metadata": {},
   "source": [
    "### Below are a few examples of evaluating arithmetic expressions in Python: <h3>\n",
    "   \n",
    "    Basic Arithmetic Operations:\n",
    "\n",
    "    1. Addition\n",
    "          result = 5 + 3\n",
    "          print(result)  # Output: 8\n",
    "\n",
    "    2. Subtraction\n",
    "         result = 10 - 2\n",
    "         print(result)  # Output: 8\n",
    "\n",
    "    3. Multiplication\n",
    "         result = 4 * 7\n",
    "         print(result)  # Output: 28\n",
    "\n",
    "    4. Division\n",
    "         result = 20 / 4\n",
    "         print(result)  # Output: 5.0\n"
   ]
  },
  {
   "cell_type": "code",
   "execution_count": 2,
   "id": "91f3e86b",
   "metadata": {},
   "outputs": [
    {
     "name": "stdout",
     "output_type": "stream",
     "text": [
      "17\n"
     ]
    }
   ],
   "source": [
    "#This a simple arithmetic expression to mutiply then add integers:\n",
    "    # Evaluating the arithmetic expression (3 * 4) + 5\n",
    "result = (3 * 4) + 5\n",
    "print(result)  \n"
   ]
  },
  {
   "cell_type": "code",
   "execution_count": 7,
   "id": "74056fb1",
   "metadata": {},
   "outputs": [
    {
     "name": "stdout",
     "output_type": "stream",
     "text": [
      "3.3333333333333335\n"
     ]
    }
   ],
   "source": [
    "#This will convert 200 minutes to hours by diving by 60.\n",
    "\n",
    "minutes = 200\n",
    "hours = minutes / 60\n",
    "print(hours)\n",
    "\n"
   ]
  },
  {
   "cell_type": "markdown",
   "id": "632c4a5b",
   "metadata": {},
   "source": [
    "## Author\n",
    "\n",
    "Priyadharshini.P "
   ]
  },
  {
   "cell_type": "code",
   "execution_count": null,
   "id": "7d78c87c",
   "metadata": {},
   "outputs": [],
   "source": []
  }
 ],
 "metadata": {
  "kernelspec": {
   "display_name": "Python 3 (ipykernel)",
   "language": "python",
   "name": "python3"
  },
  "language_info": {
   "codemirror_mode": {
    "name": "ipython",
    "version": 3
   },
   "file_extension": ".py",
   "mimetype": "text/x-python",
   "name": "python",
   "nbconvert_exporter": "python",
   "pygments_lexer": "ipython3",
   "version": "3.11.3"
  }
 },
 "nbformat": 4,
 "nbformat_minor": 5
}
